{
 "cells": [
  {
   "cell_type": "code",
   "execution_count": 60,
   "metadata": {},
   "outputs": [],
   "source": [
    "import numpy as np\n",
    "import matplotlib.pyplot as plt\n",
    "import networkx as nx"
   ]
  },
  {
   "cell_type": "code",
   "execution_count": 74,
   "metadata": {},
   "outputs": [],
   "source": [
    "components = np.loadtxt('../dependencies.txt', delimiter=\",\");"
   ]
  },
  {
   "cell_type": "code",
   "execution_count": 75,
   "metadata": {},
   "outputs": [
    {
     "data": {
      "text/plain": [
       "(10440, 3)"
      ]
     },
     "execution_count": 75,
     "metadata": {},
     "output_type": "execute_result"
    }
   ],
   "source": [
    "components.shape"
   ]
  },
  {
   "cell_type": "code",
   "execution_count": 76,
   "metadata": {},
   "outputs": [
    {
     "data": {
      "text/plain": [
       "646"
      ]
     },
     "execution_count": 76,
     "metadata": {},
     "output_type": "execute_result"
    }
   ],
   "source": [
    "np.sum(np.where(components[:, 2] > 0.1, 1, 0))"
   ]
  },
  {
   "cell_type": "code",
   "execution_count": null,
   "metadata": {},
   "outputs": [],
   "source": []
  },
  {
   "cell_type": "code",
   "execution_count": 77,
   "metadata": {},
   "outputs": [],
   "source": [
    "def draw_by_prob(prob):\n",
    "    G = nx.Graph()\n",
    "    nodes_with_edges = set()\n",
    "    for (u, v, w) in components:\n",
    "        if w > prob:\n",
    "            G.add_edge(int(u), int(v), weight=w)\n",
    "            nodes_with_edges.add(int(u))\n",
    "            nodes_with_edges.add(int(v))\n",
    "        if not u in G.nodes:\n",
    "            G.add_node(int(u))\n",
    "    all_weights = []\n",
    "    for (node1,node2,data) in G.edges(data=True):\n",
    "            all_weights.append(data['weight'])\n",
    "    unique_weights = list(set(all_weights))  \n",
    "    pos = nx.spring_layout(G)\n",
    "    nx.draw_networkx_nodes(G, pos, node_size=20)\n",
    "    for weight in unique_weights:\n",
    "        weighted_edges = [(u, v) for (u, v, w) in G.edges(data=True) if w['weight'] == weight]\n",
    "        width = weight\n",
    "        nx.draw_networkx_edges(G, pos, edgelist=weighted_edges, width=width)\n",
    "    print(list(nodes_with_edges))\n",
    "    print(len(nodes_with_edges))"
   ]
  },
  {
   "cell_type": "code",
   "execution_count": 83,
   "metadata": {},
   "outputs": [
    {
     "name": "stdout",
     "output_type": "stream",
     "text": [
      "[1, 5, 8, 11, 12, 15, 18, 19, 20, 22, 25, 26, 27, 28, 29, 30, 33, 34, 35, 37, 38, 40, 41, 42, 44, 45, 46, 48, 49, 50, 51, 52, 53, 54, 55, 57, 60, 61, 62, 63, 64, 65, 66, 67, 68, 69, 71, 72, 74, 75, 76, 78, 80, 81, 82, 83, 84, 86, 87, 88, 89, 94, 98, 99, 100, 101, 102, 103, 105, 107, 108, 109, 116, 117, 118, 119, 120, 121, 122, 123, 124, 128, 129, 131, 132, 133, 139, 141, 142, 143]\n",
      "90\n"
     ]
    },
    {
     "data": {
      "image/png": "[encoded data removed]",
      "text/plain": [
       "<Figure size 640x480 with 1 Axes>"
      ]
     },
     "metadata": {},
     "output_type": "display_data"
    }
   ],
   "source": [
    "draw_by_prob(0.5)"
   ]
  },
  {
   "cell_type": "code",
   "execution_count": null,
   "metadata": {},
   "outputs": [],
   "source": []
  },
  {
   "cell_type": "code",
   "execution_count": 90,
   "metadata": {},
   "outputs": [],
   "source": [
    "import pandas as pd\n",
    "df = pd.read_csv('../experiments.csv')"
   ]
  },
  {
   "cell_type": "code",
   "execution_count": 95,
   "metadata": {},
   "outputs": [
    {
     "data": {
      "text/plain": [
       "0         CG+GR+GC+T+BP with AStarand Decomp\n",
       "1         CG+GR+GC+T+BP with AStarand Decomp\n",
       "2         CG+GR+DC+T+BP with AStarand Decomp\n",
       "3         CG+GR+GC+T+BP with AStarand Decomp\n",
       "4         CG+GR+GC+T+BP with AStarand Decomp\n",
       "                        ...                 \n",
       "32535     CG+GR+GC+T+BP with AStarand Decomp\n",
       "32536    WDG+GR+DC+T+BP with AStarand Decomp\n",
       "32537    WDG+GR+DC+T+BP with AStarand Decomp\n",
       "32538     CG+GR+DC+T+BP with AStarand Decomp\n",
       "32539    WDG+GR+DC+T+BP with AStarand Decomp\n",
       "Name: solver name, Length: 32540, dtype: object"
      ]
     },
     "execution_count": 95,
     "metadata": {},
     "output_type": "execute_result"
    }
   ],
   "source": [
    "df['runtime']\n",
    "df['solver name']"
   ]
  },
  {
   "cell_type": "code",
   "execution_count": 108,
   "metadata": {},
   "outputs": [
    {
     "data": {
      "text/plain": [
       "['runtime',\n",
       " '#high-level expanded',\n",
       " '#high-level generated',\n",
       " '#low-level expanded',\n",
       " '#low-level generated',\n",
       " 'solution cost',\n",
       " 'min f value',\n",
       " 'root g value',\n",
       " 'root f value',\n",
       " '#adopt bypasses',\n",
       " 'standard conflicts',\n",
       " 'rectangle conflicts',\n",
       " 'corridor conflicts',\n",
       " 'target conflicts',\n",
       " 'mutex conflicts',\n",
       " '#merge MDDs',\n",
       " '#solve 2 agents',\n",
       " '#memoization',\n",
       " 'runtime of building heuristic graph',\n",
       " 'runtime of solving MVC',\n",
       " 'runtime of detecting conflicts',\n",
       " 'runtime of rectangle conflicts',\n",
       " 'runtime of corridor conflicts',\n",
       " 'runtime of mutex conflicts',\n",
       " 'runtime of building MDDs',\n",
       " 'runtime of building constraint tables',\n",
       " 'runtime of building CATs',\n",
       " 'runtime of path finding',\n",
       " 'runtime of generating child nodes',\n",
       " 'preprocessing runtime',\n",
       " 'solver name',\n",
       " 'instance name']"
      ]
     },
     "execution_count": 108,
     "metadata": {},
     "output_type": "execute_result"
    }
   ],
   "source": [
    "list(df.head(1))"
   ]
  },
  {
   "cell_type": "code",
   "execution_count": 102,
   "metadata": {},
   "outputs": [],
   "source": [
    "decomp = df[df['solver name'].str.contains('Decomp')]\n",
    "standard = df[df['solver name'].str.contains('Decomp')==False]"
   ]
  },
  {
   "cell_type": "code",
   "execution_count": 101,
   "metadata": {},
   "outputs": [
    {
     "data": {
      "text/plain": [
       "27123"
      ]
     },
     "execution_count": 101,
     "metadata": {},
     "output_type": "execute_result"
    }
   ],
   "source": [
    "len(decomp)"
   ]
  },
  {
   "cell_type": "code",
   "execution_count": 103,
   "metadata": {},
   "outputs": [
    {
     "data": {
      "text/plain": [
       "5417"
      ]
     },
     "execution_count": 103,
     "metadata": {},
     "output_type": "execute_result"
    }
   ],
   "source": [
    "len(standard)"
   ]
  },
  {
   "cell_type": "code",
   "execution_count": 104,
   "metadata": {},
   "outputs": [
    {
     "data": {
      "text/plain": [
       "{'scens/Berlin_1_256-even-1.scen:',\n",
       " 'scens/Berlin_1_256-even-10.scen:',\n",
       " 'scens/Berlin_1_256-even-11.scen:',\n",
       " 'scens/Berlin_1_256-even-12.scen:',\n",
       " 'scens/Berlin_1_256-even-13.scen:',\n",
       " 'scens/Berlin_1_256-even-14.scen:',\n",
       " 'scens/Berlin_1_256-even-15.scen:',\n",
       " 'scens/Berlin_1_256-even-16.scen:',\n",
       " 'scens/Berlin_1_256-even-17.scen:',\n",
       " 'scens/Berlin_1_256-even-18.scen:',\n",
       " 'scens/Berlin_1_256-even-19.scen:',\n",
       " 'scens/Berlin_1_256-even-2.scen:',\n",
       " 'scens/Berlin_1_256-even-20.scen:',\n",
       " 'scens/Berlin_1_256-even-21.scen:',\n",
       " 'scens/Berlin_1_256-even-22.scen:',\n",
       " 'scens/Berlin_1_256-even-23.scen:',\n",
       " 'scens/Berlin_1_256-even-24.scen:',\n",
       " 'scens/Berlin_1_256-even-25.scen:',\n",
       " 'scens/Berlin_1_256-even-3.scen:',\n",
       " 'scens/Berlin_1_256-even-4.scen:',\n",
       " 'scens/Berlin_1_256-even-5.scen:',\n",
       " 'scens/Berlin_1_256-even-6.scen:',\n",
       " 'scens/Berlin_1_256-even-7.scen:',\n",
       " 'scens/Berlin_1_256-even-8.scen:',\n",
       " 'scens/Berlin_1_256-even-9.scen:',\n",
       " 'scens/Boston_0_256-even-1.scen:',\n",
       " 'scens/Boston_0_256-even-10.scen:',\n",
       " 'scens/Boston_0_256-even-11.scen:',\n",
       " 'scens/Boston_0_256-even-12.scen:',\n",
       " 'scens/Boston_0_256-even-13.scen:',\n",
       " 'scens/Boston_0_256-even-14.scen:',\n",
       " 'scens/Boston_0_256-even-15.scen:',\n",
       " 'scens/Boston_0_256-even-16.scen:',\n",
       " 'scens/Boston_0_256-even-17.scen:',\n",
       " 'scens/Boston_0_256-even-18.scen:',\n",
       " 'scens/Boston_0_256-even-19.scen:',\n",
       " 'scens/Boston_0_256-even-2.scen:',\n",
       " 'scens/Boston_0_256-even-20.scen:',\n",
       " 'scens/Boston_0_256-even-21.scen:',\n",
       " 'scens/Boston_0_256-even-22.scen:',\n",
       " 'scens/Boston_0_256-even-23.scen:',\n",
       " 'scens/Boston_0_256-even-24.scen:',\n",
       " 'scens/Boston_0_256-even-25.scen:',\n",
       " 'scens/Boston_0_256-even-3.scen:',\n",
       " 'scens/Boston_0_256-even-4.scen:',\n",
       " 'scens/Boston_0_256-even-5.scen:',\n",
       " 'scens/Boston_0_256-even-6.scen:',\n",
       " 'scens/Boston_0_256-even-7.scen:',\n",
       " 'scens/Boston_0_256-even-8.scen:',\n",
       " 'scens/Boston_0_256-even-9.scen:',\n",
       " 'scens/brc202d-even-1.scen:',\n",
       " 'scens/brc202d-even-10.scen:',\n",
       " 'scens/brc202d-even-11.scen:',\n",
       " 'scens/brc202d-even-12.scen:',\n",
       " 'scens/brc202d-even-13.scen:',\n",
       " 'scens/brc202d-even-14.scen:',\n",
       " 'scens/brc202d-even-15.scen:',\n",
       " 'scens/brc202d-even-16.scen:',\n",
       " 'scens/brc202d-even-17.scen:',\n",
       " 'scens/brc202d-even-18.scen:',\n",
       " 'scens/brc202d-even-19.scen:',\n",
       " 'scens/brc202d-even-2.scen:',\n",
       " 'scens/brc202d-even-20.scen:',\n",
       " 'scens/brc202d-even-21.scen:',\n",
       " 'scens/brc202d-even-22.scen:',\n",
       " 'scens/brc202d-even-23.scen:',\n",
       " 'scens/brc202d-even-24.scen:',\n",
       " 'scens/brc202d-even-25.scen:',\n",
       " 'scens/brc202d-even-3.scen:',\n",
       " 'scens/brc202d-even-4.scen:',\n",
       " 'scens/brc202d-even-5.scen:',\n",
       " 'scens/brc202d-even-6.scen:',\n",
       " 'scens/brc202d-even-7.scen:',\n",
       " 'scens/brc202d-even-8.scen:',\n",
       " 'scens/brc202d-even-9.scen:',\n",
       " 'scens/den312d-even-1.scen:',\n",
       " 'scens/den312d-even-10.scen:',\n",
       " 'scens/den312d-even-11.scen:',\n",
       " 'scens/den312d-even-12.scen:',\n",
       " 'scens/den312d-even-13.scen:',\n",
       " 'scens/den312d-even-14.scen:',\n",
       " 'scens/den312d-even-15.scen:',\n",
       " 'scens/den312d-even-16.scen:',\n",
       " 'scens/den312d-even-17.scen:',\n",
       " 'scens/den312d-even-18.scen:',\n",
       " 'scens/den312d-even-19.scen:',\n",
       " 'scens/den312d-even-2.scen:',\n",
       " 'scens/den312d-even-20.scen:',\n",
       " 'scens/den312d-even-21.scen:',\n",
       " 'scens/den312d-even-22.scen:',\n",
       " 'scens/den312d-even-23.scen:',\n",
       " 'scens/den312d-even-24.scen:',\n",
       " 'scens/den312d-even-25.scen:',\n",
       " 'scens/den312d-even-3.scen:',\n",
       " 'scens/den312d-even-4.scen:',\n",
       " 'scens/den312d-even-5.scen:',\n",
       " 'scens/den312d-even-6.scen:',\n",
       " 'scens/den312d-even-7.scen:',\n",
       " 'scens/den312d-even-8.scen:',\n",
       " 'scens/den312d-even-9.scen:',\n",
       " 'scens/den520d-even-1.scen:',\n",
       " 'scens/den520d-even-10.scen:',\n",
       " 'scens/den520d-even-11.scen:',\n",
       " 'scens/den520d-even-12.scen:',\n",
       " 'scens/den520d-even-13.scen:',\n",
       " 'scens/den520d-even-14.scen:',\n",
       " 'scens/den520d-even-15.scen:',\n",
       " 'scens/den520d-even-16.scen:',\n",
       " 'scens/den520d-even-17.scen:',\n",
       " 'scens/den520d-even-18.scen:',\n",
       " 'scens/den520d-even-19.scen:',\n",
       " 'scens/den520d-even-2.scen:',\n",
       " 'scens/den520d-even-20.scen:',\n",
       " 'scens/den520d-even-21.scen:',\n",
       " 'scens/den520d-even-22.scen:',\n",
       " 'scens/den520d-even-23.scen:',\n",
       " 'scens/den520d-even-24.scen:',\n",
       " 'scens/den520d-even-25.scen:',\n",
       " 'scens/den520d-even-3.scen:',\n",
       " 'scens/den520d-even-4.scen:',\n",
       " 'scens/den520d-even-5.scen:',\n",
       " 'scens/den520d-even-6.scen:',\n",
       " 'scens/den520d-even-7.scen:',\n",
       " 'scens/den520d-even-8.scen:',\n",
       " 'scens/den520d-even-9.scen:',\n",
       " 'scens/empty-16-16-even-1.scen:',\n",
       " 'scens/empty-16-16-even-10.scen:',\n",
       " 'scens/empty-16-16-even-11.scen:',\n",
       " 'scens/empty-16-16-even-12.scen:',\n",
       " 'scens/empty-16-16-even-13.scen:',\n",
       " 'scens/empty-16-16-even-14.scen:',\n",
       " 'scens/empty-16-16-even-15.scen:',\n",
       " 'scens/empty-16-16-even-16.scen:',\n",
       " 'scens/empty-16-16-even-17.scen:',\n",
       " 'scens/empty-16-16-even-18.scen:',\n",
       " 'scens/empty-16-16-even-19.scen:',\n",
       " 'scens/empty-16-16-even-2.scen:',\n",
       " 'scens/empty-16-16-even-20.scen:',\n",
       " 'scens/empty-16-16-even-21.scen:',\n",
       " 'scens/empty-16-16-even-22.scen:',\n",
       " 'scens/empty-16-16-even-23.scen:',\n",
       " 'scens/empty-16-16-even-24.scen:',\n",
       " 'scens/empty-16-16-even-25.scen:',\n",
       " 'scens/empty-16-16-even-3.scen:',\n",
       " 'scens/empty-16-16-even-4.scen:',\n",
       " 'scens/empty-16-16-even-5.scen:',\n",
       " 'scens/empty-16-16-even-6.scen:',\n",
       " 'scens/empty-16-16-even-7.scen:',\n",
       " 'scens/empty-16-16-even-8.scen:',\n",
       " 'scens/empty-16-16-even-9.scen:',\n",
       " 'scens/empty-32-32-even-1.scen:',\n",
       " 'scens/empty-32-32-even-10.scen:',\n",
       " 'scens/empty-32-32-even-11.scen:',\n",
       " 'scens/empty-32-32-even-12.scen:',\n",
       " 'scens/empty-32-32-even-13.scen:',\n",
       " 'scens/empty-32-32-even-14.scen:',\n",
       " 'scens/empty-32-32-even-15.scen:',\n",
       " 'scens/empty-32-32-even-16.scen:',\n",
       " 'scens/empty-32-32-even-17.scen:',\n",
       " 'scens/empty-32-32-even-18.scen:',\n",
       " 'scens/empty-32-32-even-19.scen:',\n",
       " 'scens/empty-32-32-even-2.scen:',\n",
       " 'scens/empty-32-32-even-20.scen:',\n",
       " 'scens/empty-32-32-even-3.scen:',\n",
       " 'scens/empty-32-32-even-4.scen:',\n",
       " 'scens/empty-32-32-even-5.scen:',\n",
       " 'scens/empty-32-32-even-6.scen:',\n",
       " 'scens/empty-32-32-even-7.scen:',\n",
       " 'scens/empty-32-32-even-8.scen:',\n",
       " 'scens/empty-32-32-even-9.scen:',\n",
       " 'scens/empty-8-8-even-1.scen:',\n",
       " 'scens/empty-8-8-even-10.scen:',\n",
       " 'scens/empty-8-8-even-11.scen:',\n",
       " 'scens/empty-8-8-even-12.scen:',\n",
       " 'scens/empty-8-8-even-13.scen:',\n",
       " 'scens/empty-8-8-even-14.scen:',\n",
       " 'scens/empty-8-8-even-15.scen:',\n",
       " 'scens/empty-8-8-even-16.scen:',\n",
       " 'scens/empty-8-8-even-17.scen:',\n",
       " 'scens/empty-8-8-even-18.scen:',\n",
       " 'scens/empty-8-8-even-19.scen:',\n",
       " 'scens/empty-8-8-even-2.scen:',\n",
       " 'scens/empty-8-8-even-20.scen:',\n",
       " 'scens/empty-8-8-even-21.scen:',\n",
       " 'scens/empty-8-8-even-22.scen:',\n",
       " 'scens/empty-8-8-even-23.scen:',\n",
       " 'scens/empty-8-8-even-24.scen:',\n",
       " 'scens/empty-8-8-even-25.scen:',\n",
       " 'scens/empty-8-8-even-3.scen:',\n",
       " 'scens/empty-8-8-even-4.scen:',\n",
       " 'scens/empty-8-8-even-5.scen:',\n",
       " 'scens/empty-8-8-even-6.scen:',\n",
       " 'scens/empty-8-8-even-7.scen:',\n",
       " 'scens/empty-8-8-even-8.scen:',\n",
       " 'scens/empty-8-8-even-9.scen:',\n",
       " 'scens/random-64-64-20-even-1.scen:',\n",
       " 'scens/random-64-64-20-even-10.scen:',\n",
       " 'scens/random-64-64-20-even-11.scen:',\n",
       " 'scens/random-64-64-20-even-12.scen:',\n",
       " 'scens/random-64-64-20-even-13.scen:',\n",
       " 'scens/random-64-64-20-even-14.scen:',\n",
       " 'scens/random-64-64-20-even-15.scen:',\n",
       " 'scens/random-64-64-20-even-16.scen:',\n",
       " 'scens/random-64-64-20-even-17.scen:',\n",
       " 'scens/random-64-64-20-even-18.scen:',\n",
       " 'scens/random-64-64-20-even-19.scen:',\n",
       " 'scens/random-64-64-20-even-2.scen:',\n",
       " 'scens/random-64-64-20-even-20.scen:',\n",
       " 'scens/random-64-64-20-even-21.scen:',\n",
       " 'scens/random-64-64-20-even-22.scen:',\n",
       " 'scens/random-64-64-20-even-23.scen:',\n",
       " 'scens/random-64-64-20-even-24.scen:',\n",
       " 'scens/random-64-64-20-even-25.scen:',\n",
       " 'scens/random-64-64-20-even-3.scen:',\n",
       " 'scens/random-64-64-20-even-4.scen:',\n",
       " 'scens/random-64-64-20-even-5.scen:',\n",
       " 'scens/random-64-64-20-even-6.scen:',\n",
       " 'scens/random-64-64-20-even-7.scen:',\n",
       " 'scens/random-64-64-20-even-8.scen:',\n",
       " 'scens/random-64-64-20-even-9.scen:'}"
      ]
     },
     "execution_count": 104,
     "metadata": {},
     "output_type": "execute_result"
    }
   ],
   "source": [
    "set(df['instance name'].str + df['k'])"
   ]
  },
  {
   "cell_type": "code",
   "execution_count": null,
   "metadata": {},
   "outputs": [],
   "source": []
  }
 ],
 "metadata": {
  "kernelspec": {
   "display_name": "Python 3",
   "language": "python",
   "name": "python3"
  },
  "language_info": {
   "codemirror_mode": {
    "name": "ipython",
    "version": 3
   },
   "file_extension": ".py",
   "mimetype": "text/x-python",
   "name": "python",
   "nbconvert_exporter": "python",
   "pygments_lexer": "ipython3",
   "version": "3.8.10"
  }
 },
 "nbformat": 4,
 "nbformat_minor": 2
}
